{
 "cells": [
  {
   "cell_type": "markdown",
   "id": "5de28a26-62c1-4169-9fab-9987168e7dc0",
   "metadata": {},
   "source": [
    "# KRX Options Expiration Calendar"
   ]
  },
  {
   "cell_type": "code",
   "execution_count": null,
   "id": "af771e82-52ae-40d9-9b16-b80a24e24ab8",
   "metadata": {},
   "outputs": [],
   "source": [
    "import pandas as pd\n",
    "import json\n",
    "import requests\n",
    "import datetime\n",
    "import re"
   ]
  },
  {
   "cell_type": "markdown",
   "id": "e61a03ce-ea63-488b-82c3-e98e0b9ced93",
   "metadata": {},
   "source": [
    "## Market Holidays (2023 – 2027)\n",
    "한국거래소 > KRX 시장 > 시장동향 > 증시일정 > [휴장일](https://open.krx.co.kr/contents/MKD/01/0110/01100305/MKD01100305.jsp)"
   ]
  },
  {
   "cell_type": "code",
   "execution_count": null,
   "id": "2d6c5553-c029-463b-b0cb-3c95ec0a86bb",
   "metadata": {
    "tags": []
   },
   "outputs": [],
   "source": [
    "holidays_ser = pd.read_excel('KRX_market_holidays.xls').iloc[:, 0]\n",
    "holidays = []\n",
    "\n",
    "for date in holidays_ser:\n",
    "    dt = datetime.datetime.strptime(date, '%Y-%m-%d').date()\n",
    "    holidays.append(dt)\n",
    "\n",
    "holidays"
   ]
  },
  {
   "cell_type": "code",
   "execution_count": null,
   "id": "9fdb7c10-02dc-49dc-8bef-59849e319c71",
   "metadata": {
    "tags": []
   },
   "outputs": [],
   "source": [
    "# Create a trading days list of 2023 and onwards\n",
    "\n",
    "start_date = datetime.date(2023, 1, 1)\n",
    "end_date = holidays[-1]\n",
    "\n",
    "trading_days_fwd = []\n",
    "current_date = start_date\n",
    "\n",
    "while current_date <= end_date:\n",
    "    if current_date.weekday() < 5 and current_date not in holidays:\n",
    "        trading_days_fwd.append(current_date)\n",
    "    current_date += datetime.timedelta(days = 1)"
   ]
  },
  {
   "cell_type": "code",
   "execution_count": null,
   "id": "c6cae6f6-54a6-4a1a-ba84-90622f367545",
   "metadata": {
    "tags": []
   },
   "outputs": [],
   "source": [
    "option_expiration_dates = []\n",
    "\n",
    "for year in range(2023, 2028):\n",
    "    for month in range(1, 13):\n",
    "        for day in range(8, 15):\n",
    "            dt = datetime.date(year, month, day)\n",
    "            if (dt.weekday() == 3) & (dt not in holidays):\n",
    "                option_expiration_dates.append(dt)\n",
    "            elif (dt.weekday() == 3) & (dt in holidays):\n",
    "                for days_offset in range(1, 4):\n",
    "                    possible_date = dt - datetime.timedelta(days = days_offset)\n",
    "                    if possible_date not in holidays:\n",
    "                        option_expiration_dates.append(possible_date)\n",
    "                        break\n",
    "\n",
    "# Add 2025-10-02 as an exception (10/3 Fri. ~ 10/9 Thu. national holidays)\n",
    "option_expiration_dates.append( datetime.date(2025, 10, 2) )\n",
    "option_expiration_dates.sort()\n",
    "\n",
    "option_expiration_dates"
   ]
  },
  {
   "cell_type": "markdown",
   "id": "c6c560ca-c17c-470e-8214-c7b468f97124",
   "metadata": {},
   "source": [
    "## Historical Trading Days (1999 – 2022)"
   ]
  },
  {
   "cell_type": "code",
   "execution_count": null,
   "id": "a12e964b-9366-4943-8d90-f373ebeec650",
   "metadata": {
    "tags": []
   },
   "outputs": [],
   "source": [
    "# c_amt_do is a DataFrame sourced directly using requests from KRX\n",
    "trading_days = c_amt_do['일자']\n",
    "\n",
    "days_list = []\n",
    "\n",
    "for date in trading_days:\n",
    "    dt = datetime.datetime.strptime(date, '%Y/%m/%d').date()\n",
    "    days_list.append(dt)"
   ]
  },
  {
   "cell_type": "code",
   "execution_count": null,
   "id": "7d771b52-23d1-4e0b-903d-84481ba9d745",
   "metadata": {
    "tags": []
   },
   "outputs": [],
   "source": [
    "second_thursday = []\n",
    "\n",
    "for year in range(1999, 2023):\n",
    "    for month in range(1, 13):\n",
    "        for day in range(8, 15):\n",
    "            if datetime.date(year, month, day).weekday() == 3:\n",
    "                second_thursday.append( datetime.date(year, month, day) )\n",
    "\n",
    "second_thursday = second_thursday[4:]   # trading data available from 1999-04-26"
   ]
  },
  {
   "cell_type": "code",
   "execution_count": null,
   "id": "b030d39b-fc55-4215-b9f9-58c10dbd1e46",
   "metadata": {
    "tags": []
   },
   "outputs": [],
   "source": [
    "option_exp_date = []\n",
    "for secthu in second_thursday:\n",
    "    for days_offset in range(0, 4):\n",
    "        possible_date = secthu - datetime.timedelta(days = days_offset)\n",
    "        if possible_date in days_list:\n",
    "            option_exp_date.append(possible_date)\n",
    "            break\n",
    "    else:\n",
    "        raise ValueError(f\"No valid option expiration date found for second Thursday {secthu}.\")"
   ]
  },
  {
   "cell_type": "markdown",
   "id": "43f9f067-2ead-4aca-8e79-d660540d1cf5",
   "metadata": {},
   "source": [
    "## Options Expiration Dates"
   ]
  },
  {
   "cell_type": "code",
   "execution_count": null,
   "id": "dce3654c-97eb-43f3-ba4e-efb63f2e9439",
   "metadata": {
    "tags": []
   },
   "outputs": [],
   "source": [
    "option_exp_date = option_exp_date + option_expiration_dates\n",
    "option_exp_date"
   ]
  },
  {
   "cell_type": "markdown",
   "id": "4af940bd-77cc-4200-9130-2adca6a6cd30",
   "metadata": {},
   "source": [
    "---"
   ]
  },
  {
   "cell_type": "markdown",
   "id": "d5ca1c99-0c9a-4d74-86a1-155cf6f13de6",
   "metadata": {},
   "source": [
    "## Time to Maturity"
   ]
  },
  {
   "cell_type": "code",
   "execution_count": null,
   "id": "297d89e0-36f2-4a4e-98c6-ee31391470af",
   "metadata": {
    "tags": []
   },
   "outputs": [],
   "source": [
    "trading_days = list(set(days_list + trading_days_fwd))\n",
    "trading_days = sorted(trading_days)\n",
    "trading_days = pd.Series(trading_days)"
   ]
  },
  {
   "cell_type": "code",
   "execution_count": null,
   "id": "1ba70a9b-ffab-4d42-8f74-e1ad8bd088f6",
   "metadata": {
    "tags": []
   },
   "outputs": [],
   "source": [
    "days_until_exp = {}\n",
    "index = 0\n",
    "\n",
    "for i in trading_days:\n",
    "    if i < option_exp_date[index]:\n",
    "        days_until_exp[i] = trading_days.index[ trading_days == option_exp_date[index] ][0] - trading_days.index[ trading_days == i ][0]\n",
    "    elif i == option_exp_date[index]:\n",
    "        days_until_exp[i] = trading_days.index[ trading_days == option_exp_date[index] ][0] - trading_days.index[ trading_days == i ][0]\n",
    "        index += 1\n",
    "\n",
    "ser = pd.Series(days_until_exp)"
   ]
  },
  {
   "cell_type": "code",
   "execution_count": null,
   "id": "68666305-c948-4e31-b8db-e829d5a2a451",
   "metadata": {
    "tags": []
   },
   "outputs": [],
   "source": [
    "ser[-30:]"
   ]
  }
 ],
 "metadata": {
  "kernelspec": {
   "display_name": "Python 3 (ipykernel)",
   "language": "python",
   "name": "python3"
  },
  "language_info": {
   "codemirror_mode": {
    "name": "ipython",
    "version": 3
   },
   "file_extension": ".py",
   "mimetype": "text/x-python",
   "name": "python",
   "nbconvert_exporter": "python",
   "pygments_lexer": "ipython3",
   "version": "3.11.3"
  }
 },
 "nbformat": 4,
 "nbformat_minor": 5
}
