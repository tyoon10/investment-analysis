{
 "cells": [
  {
   "cell_type": "markdown",
   "id": "abd70631-6aa5-4bea-97b2-a63b2441266a",
   "metadata": {},
   "source": [
    "# KRX Market Data Import"
   ]
  },
  {
   "cell_type": "code",
   "execution_count": null,
   "id": "efb5ca87-28cc-438a-8241-b0a40b6a14e0",
   "metadata": {
    "tags": []
   },
   "outputs": [],
   "source": [
    "import pandas as pd\n",
    "import json\n",
    "import requests"
   ]
  },
  {
   "cell_type": "code",
   "execution_count": null,
   "id": "d7a68a02-6a18-4d3b-94fd-6805515edb3c",
   "metadata": {
    "tags": []
   },
   "outputs": [],
   "source": [
    "def source_into_parsed(form_data):\n",
    "    view_parsed = {}\n",
    "    \n",
    "    for i in form_data.split('&'):\n",
    "        view_parsed[ i.split('=')[0] ] = i.split('=')[1]\n",
    "        \n",
    "    return view_parsed"
   ]
  },
  {
   "cell_type": "code",
   "execution_count": null,
   "id": "12e4c8ab-7ecb-4246-a921-a93a8cd57530",
   "metadata": {
    "tags": []
   },
   "outputs": [],
   "source": [
    "def get_investors_options(isuCd, isuOpt, prtType, prtCheck, start_date, end_date):\n",
    "    url = 'http://data.krx.co.kr/comm/bldAttendant/getJsonData.cmd'\n",
    "    headers = {\n",
    "        'Referer': referer,       # from Request Headers\n",
    "        'User-Agent': user_agent  # from Request Headers\n",
    "    }\n",
    "    \n",
    "    form_data = 'bld=dbms/MDC/STAT/standard/MDCSTAT13103&locale=ko_KR&prodId=&strtDd=20230418&endDd=20230425&inqTpCd=2&prtType=QTY&prtCheck=DO&isuCd=KRDRVOPK2I&isuOpt=C&strtDdBox1=20230418&endDdBox1=20230425&strtDdBox2=20230418&endDdBox2=20230425&detailView=1&share=1&csvxls_isNo=false'\n",
    "    parsed_qsp = source_into_parsed(form_data)\n",
    "    parsed_qsp['isuCd'] = isuCd\n",
    "    parsed_qsp['isuOpt'] = isuOpt\n",
    "    parsed_qsp['prtType'] = prtType\n",
    "    parsed_qsp['prtCheck'] = prtCheck\n",
    "    parsed_qsp['strtDd'] = start_date\n",
    "    parsed_qsp['endDd'] = end_date\n",
    "\n",
    "    r = requests.get(\n",
    "            url,\n",
    "            params = parsed_qsp,\n",
    "            headers = headers\n",
    "        )\n",
    "    \n",
    "    data = json.loads(r.content)\n",
    "    df_data = data['output']\n",
    "    df = pd.DataFrame(df_data)\n",
    "    df.columns = ['일자', '금융투자', '보험', '투신', '은행', '기타금융', '연기금', '기타법인', '개인', '외국인', '외국인합계', '전체']\n",
    "    \n",
    "    return df"
   ]
  }
 ],
 "metadata": {
  "kernelspec": {
   "display_name": "Python 3 (ipykernel)",
   "language": "python",
   "name": "python3"
  },
  "language_info": {
   "codemirror_mode": {
    "name": "ipython",
    "version": 3
   },
   "file_extension": ".py",
   "mimetype": "text/x-python",
   "name": "python",
   "nbconvert_exporter": "python",
   "pygments_lexer": "ipython3",
   "version": "3.11.3"
  }
 },
 "nbformat": 4,
 "nbformat_minor": 5
}
